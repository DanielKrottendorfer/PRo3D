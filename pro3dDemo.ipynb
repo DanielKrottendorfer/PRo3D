{
 "cells": [
  {
   "cell_type": "code",
   "execution_count": 1,
   "metadata": {},
   "source": [
    "#!fsharp\n",
    "let showPro3d() = \n",
    "    Html.ToHtmlContent \"<iframe src='http://localhost:54322/?page=render' width='800' height='400'></frame>\"\n",
    "\n",
    "\n",
    "#r \"nuget: Plotly.NET, 2.0.0-beta5\"\n",
    "#r \"nuget: Plotly.NET.Interactive, 2.0.0-beta5\""
   ],
   "outputs": [
    {
     "output_type": "execute_result",
     "data": {
      "text/plain": "Installed package Plotly.NET.Interactive version 2.0.0-beta5"
     },
     "execution_count": 1,
     "metadata": {}
    },
    {
     "output_type": "execute_result",
     "data": {
      "text/plain": "Installed package Plotly.NET version 2.0.0-beta5"
     },
     "execution_count": 1,
     "metadata": {}
    },
    {
     "output_type": "execute_result",
     "data": {
      "text/plain": "Loaded Plotly.NET.Interactive.FormatterKernelExtension"
     },
     "execution_count": 1,
     "metadata": {}
    },
    {
     "output_type": "execute_result",
     "data": {
      "text/markdown": "Added Kernel Extension including formatters for GenericChart"
     },
     "execution_count": 1,
     "metadata": {}
    }
   ]
  },
  {
   "cell_type": "code",
   "execution_count": 1,
   "metadata": {},
   "source": [
    "#!fsharp\n",
    "open Plotly.NET \n",
    "\n",
    "type Annotation = \n",
    "    | DipAndStrike\n",
    "\n",
    "module DSL =\n",
    "    let flyToBookmark (s : string) = ()\n",
    "    let getAnnotations () : list<Annotation> = []\n",
    "\n",
    "let isDipAndStrike _ = false\n",
    "\n",
    "open DSL\n",
    "\n",
    "let r    = [77.5; 72.5; 70.0; 45.0; 22.5; 42.5; 40.0; 62.5]\n",
    "let r'   = [57.5; 50.0; 45.0; 35.0; 20.0; 22.5; 37.5; 55.0]\n",
    "let r''  = [40.0; 30.0; 30.0; 35.0; 7.5; 7.5; 32.5; 40.0]\n",
    "let r''' = [20.0; 7.5; 15.0; 22.5; 2.5; 2.5; 12.5; 22.5]\n",
    "\n",
    "let t = [\"North\"; \"N-E\"; \"East\"; \"S-E\"; \"South\"; \"S-W\"; \"West\"; \"N-W\"]\n",
    "\n",
    "let charts = \n",
    "    seq {\n",
    "        for i in 0 .. 2 do \n",
    "            yield [ \n",
    "                Chart.WindRose (r |> List.map (fun a -> a * float i)   ,t,Name=\"0-5°\")\n",
    "                Chart.WindRose (r'|> List.map (fun a -> a * float i)  ,t,Name=\"5-10°\")\n",
    "                Chart.WindRose (r'|> List.map (fun a -> a * float i) ,t,Name=\">25°\")\n",
    "            ] |> Chart.Combine\n",
    "    } \n",
    "\n",
    "let windrose1 =\n",
    "    [\n",
    "        Chart.WindRose (r   ,t,Name=\"0-5°\")\n",
    "        Chart.WindRose (r'  ,t,Name=\"5-10°\")\n",
    "        Chart.WindRose (r'' ,t,Name=\"10-20°\")\n",
    "        Chart.WindRose (r''',t,Name=\">20°\")\n",
    "    ]\n",
    "    |> Chart.Combine\n",
    "\n",
    "let showRoseDiagram _ =\n",
    "    windrose1\n",
    "    //Chart.SingleStack(charts)\n",
    "    //Chart.Grid(charts, false,StyleParam.LayoutGridRowOrder.TopToBottom,0.0)\n",
    "\n",
    ""
   ],
   "outputs": [
    {
     "output_type": "error",
     "ename": "Error",
     "evalue": "input.fsx (25,33)-(25,36) typecheck error The value or constructor 'r''' is not defined.",
     "traceback": []
    }
   ]
  },
  {
   "cell_type": "code",
   "execution_count": 1,
   "metadata": {},
   "source": [
    "#!fsharp\n",
    "showPro3d()"
   ],
   "outputs": []
  },
  {
   "cell_type": "code",
   "execution_count": 1,
   "metadata": {},
   "source": [
    "#!fsharp\n",
    "flyToBookmark \"victoria\"\n",
    "let annotations = getAnnotations () \n",
    "let dipAndStrike = List.filter isDipAndStrike annotations\n",
    "showRoseDiagram(dipAndStrike)"
   ],
   "outputs": []
  }
 ],
 "metadata": {
  "kernelspec": {
   "display_name": ".NET (C#)",
   "language": "C#",
   "name": ".net-csharp"
  },
  "language_info": {
   "file_extension": ".cs",
   "mimetype": "text/x-csharp",
   "name": "C#",
   "pygments_lexer": "csharp",
   "version": "8.0"
  }
 },
 "nbformat": 4,
 "nbformat_minor": 4
}