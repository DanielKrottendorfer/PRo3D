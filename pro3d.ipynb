{
 "cells": [
  {
   "cell_type": "code",
   "execution_count": 1,
   "metadata": {},
   "source": [
    "#!fsharp\n",
    "let showPro3d() = \n",
    "    HTML \"<iframe src='http://localhost:54322/?page=render' width='800' height='400'></frame>\"\n",
    "\n",
    "\n",
    "#r \"nuget: Plotly.NET, 2.0.0-beta5\"\n",
    "#r \"nuget: Plotly.NET.Interactive, 2.0.0-beta5\""
   ],
   "outputs": []
  },
  {
   "cell_type": "code",
   "execution_count": 1,
   "metadata": {},
   "source": [
    "#!fsharp\n",
    "open Plotly.NET \n",
    "\n",
    "type Annotation = \n",
    "    | DipAndStrike\n",
    "\n",
    "module DSL =\n",
    "    let flyToBookmark (s : string) = ()\n",
    "    let getAnnotations () : list<Annotation> = []\n",
    "\n",
    "let isDipAndStrike _ = false\n",
    "\n",
    "open DSL\n",
    "\n",
    "let r    = [77.5; 72.5; 70.0; 45.0; 22.5; 42.5; 40.0; 62.5]\n",
    "let r'   = [57.5; 50.0; 45.0; 35.0; 20.0; 22.5; 37.5; 55.0]\n",
    "let r''  = [40.0; 30.0; 30.0; 35.0; 7.5; 7.5; 32.5; 40.0]\n",
    "let r''' = [20.0; 7.5; 15.0; 22.5; 2.5; 2.5; 12.5; 22.5]\n",
    "\n",
    "let t = [\"North\"; \"N-E\"; \"East\"; \"S-E\"; \"South\"; \"S-W\"; \"West\"; \"N-W\"]\n",
    "\n",
    "let charts = \n",
    "    seq {\n",
    "        for i in 0 .. 2 do \n",
    "            yield [ \n",
    "                Chart.WindRose (r |> List.map (fun a -> a * float i)   ,t,Name=\"0-5°\")\n",
    "                Chart.WindRose (r'|> List.map (fun a -> a * float i)  ,t,Name=\"5-10°\")\n",
    "                Chart.WindRose (r'|> List.map (fun a -> a * float i) ,t,Name=\">25°\")\n",
    "            ] |> Chart.Combine\n",
    "    } \n",
    "\n",
    "let windrose1 =\n",
    "    [\n",
    "        Chart.WindRose (r   ,t,Name=\"0-5°\")\n",
    "        Chart.WindRose (r'  ,t,Name=\"5-10°\")\n",
    "        Chart.WindRose (r'' ,t,Name=\"10-20°\")\n",
    "        Chart.WindRose (r''',t,Name=\">20°\")\n",
    "    ]\n",
    "    |> Chart.Combine\n",
    "\n",
    "let showRoseDiagram _ =\n",
    "    windrose1\n",
    "    //Chart.SingleStack(charts)\n",
    "    //Chart.Grid(charts, false,StyleParam.LayoutGridRowOrder.TopToBottom,0.0)\n",
    "\n",
    ""
   ],
   "outputs": []
  },
  {
   "cell_type": "code",
   "execution_count": 1,
   "metadata": {},
   "source": [
    "#!fsharp\n",
    "open System\n",
    "open System.Net\n",
    "open System.Diagnostics\n",
    "open System.IO\n",
    "\n",
    "let endpoint = \"http://localhost:54322\"\n",
    "\n",
    "let setCamera (description : string) = \n",
    "    try\n",
    "        let desc = Uri.EscapeUriString(description)\n",
    "        let r = WebRequest.Create(endpoint + \"/setCamera\")\n",
    "        let response = r.GetResponse() |> unbox<HttpWebResponse>\n",
    "        use reader = new StreamReader(response.GetResponseStream())\n",
    "        let result = reader.ReadToEnd()\n",
    "        printfn \"%s\" result\n",
    "    with e -> \n",
    "        printfn \"[CrashReporter] could not report: %s\" e.Message"
   ],
   "outputs": []
  },
  {
   "cell_type": "code",
   "execution_count": 1,
   "metadata": {},
   "source": [
    "#!fsharp\n",
    "showPro3d()"
   ],
   "outputs": [
    {
     "output_type": "execute_result",
     "data": {
      "text/html": "<iframe src='http://localhost:54322/?page=render' width='800' height='400'></frame>"
     },
     "execution_count": 1,
     "metadata": {}
    }
   ]
  },
  {
   "cell_type": "code",
   "execution_count": 1,
   "metadata": {},
   "source": [
    "#!fsharp\n",
    "setCamera \"pos1\""
   ],
   "outputs": [
    {
     "output_type": "execute_result",
     "data": {
      "text/plain": ""
     },
     "execution_count": 1,
     "metadata": {}
    },
    {
     "output_type": "execute_result",
     "data": {
      "text/plain": "\r\n"
     },
     "execution_count": 1,
     "metadata": {}
    }
   ]
  },
  {
   "cell_type": "code",
   "execution_count": 1,
   "metadata": {},
   "source": [
    "#!fsharp\n",
    "let annotations = getAnnotations () \n",
    "let dipAndStrike = List.filter isDipAndStrike annotations\n",
    "showRoseDiagram(dipAndStrike)"
   ],
   "outputs": [
    {
     "output_type": "execute_result",
     "data": {
      "text/html": "<div id=\"79f7c8ab-91dc-400b-b09a-2d135d1480ba\" style=\"width: 600px; height: 600px;\"><!-- Plotly chart will be drawn inside this DIV --></div>\r\n<script type=\"text/javascript\">\r\n\n            var renderPlotly_79f7c8ab91dc400bb09a2d135d1480ba = function() {\n            var fsharpPlotlyRequire = requirejs.config({context:'fsharp-plotly',paths:{plotly:'https://cdn.plot.ly/plotly-latest.min'}}) || require;\n            fsharpPlotlyRequire(['plotly'], function(Plotly) {\r\n\n            var data = [{\"type\":\"area\",\"r\":[77.5,72.5,70.0,45.0,22.5,42.5,40.0,62.5],\"t\":[\"North\",\"N-E\",\"East\",\"S-E\",\"South\",\"S-W\",\"West\",\"N-W\"],\"name\":\"0-5°\",\"line\":{\"width\":{}},\"marker\":{}},{\"type\":\"area\",\"r\":[57.5,50.0,45.0,35.0,20.0,22.5,37.5,55.0],\"t\":[\"North\",\"N-E\",\"East\",\"S-E\",\"South\",\"S-W\",\"West\",\"N-W\"],\"name\":\"5-10°\",\"line\":{\"width\":{}},\"marker\":{}},{\"type\":\"area\",\"r\":[40.0,30.0,30.0,35.0,7.5,7.5,32.5,40.0],\"t\":[\"North\",\"N-E\",\"East\",\"S-E\",\"South\",\"S-W\",\"West\",\"N-W\"],\"name\":\"10-20°\",\"line\":{\"width\":{}},\"marker\":{}},{\"type\":\"area\",\"r\":[20.0,7.5,15.0,22.5,2.5,2.5,12.5,22.5],\"t\":[\"North\",\"N-E\",\"East\",\"S-E\",\"South\",\"S-W\",\"West\",\"N-W\"],\"name\":\">20°\",\"line\":{\"width\":{}},\"marker\":{}}];\n            var layout = {};\n            var config = {};\n            Plotly.newPlot('79f7c8ab-91dc-400b-b09a-2d135d1480ba', data, layout, config);\r\n});\n            };\n            if ((typeof(requirejs) !==  typeof(Function)) || (typeof(requirejs.config) !== typeof(Function))) {\n                var script = document.createElement(\"script\");\n                script.setAttribute(\"src\", \"https://cdnjs.cloudflare.com/ajax/libs/require.js/2.3.6/require.min.js\");\n                script.onload = function(){\n                    renderPlotly_79f7c8ab91dc400bb09a2d135d1480ba();\n                };\n                document.getElementsByTagName(\"head\")[0].appendChild(script);\n            }\n            else {\n                renderPlotly_79f7c8ab91dc400bb09a2d135d1480ba();\n            }\r\n</script>\r\n"
     },
     "execution_count": 1,
     "metadata": {}
    }
   ]
  }
 ],
 "metadata": {
  "kernelspec": {
   "display_name": ".NET (C#)",
   "language": "C#",
   "name": ".net-csharp"
  },
  "language_info": {
   "file_extension": ".cs",
   "mimetype": "text/x-csharp",
   "name": "C#",
   "pygments_lexer": "csharp",
   "version": "8.0"
  }
 },
 "nbformat": 4,
 "nbformat_minor": 4
}